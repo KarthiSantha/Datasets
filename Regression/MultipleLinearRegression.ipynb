{
 "cells": [
  {
   "cell_type": "code",
   "execution_count": 8,
   "metadata": {},
   "outputs": [],
   "source": [
    "import numpy as np\n",
    "import pandas as pd\n",
    "import matplotlib.pyplot as plt"
   ]
  },
  {
   "cell_type": "code",
   "execution_count": 9,
   "metadata": {},
   "outputs": [],
   "source": [
    " data = pd.read_csv('/home/karthi_krish/CSV_files/Machine_learning_course/50_Startups.csv')"
   ]
  },
  {
   "cell_type": "code",
   "execution_count": null,
   "metadata": {},
   "outputs": [],
   "source": []
  },
  {
   "cell_type": "code",
   "execution_count": 10,
   "metadata": {},
   "outputs": [],
   "source": [
    "X = data.iloc[:,:4].values\n",
    "Y = data.iloc[:,4:].values"
   ]
  },
  {
   "cell_type": "code",
   "execution_count": null,
   "metadata": {},
   "outputs": [],
   "source": [
    "\n"
   ]
  },
  {
   "cell_type": "code",
   "execution_count": 11,
   "metadata": {},
   "outputs": [],
   "source": [
    "from sklearn.impute import SimpleImputer"
   ]
  },
  {
   "cell_type": "code",
   "execution_count": null,
   "metadata": {},
   "outputs": [],
   "source": []
  },
  {
   "cell_type": "code",
   "execution_count": 12,
   "metadata": {},
   "outputs": [],
   "source": [
    "imputer_num = SimpleImputer(missing_values = np.nan,strategy = 'mean')\n",
    "imputer_string = SimpleImputer(missing_values = np.nan,strategy = 'most_frequent')\n",
    "imputer_num = imputer_num.fit(X[:,:3])\n",
    "imputer_string = imputer_string.fit(X[:,3:])"
   ]
  },
  {
   "cell_type": "code",
   "execution_count": 13,
   "metadata": {},
   "outputs": [],
   "source": [
    "X[:,:3] = imputer_num.transform(X[:,:3])\n",
    "X[:,3:] = imputer_string.transform(X[:,3:])"
   ]
  },
  {
   "cell_type": "code",
   "execution_count": null,
   "metadata": {},
   "outputs": [],
   "source": []
  },
  {
   "cell_type": "code",
   "execution_count": 83,
   "metadata": {},
   "outputs": [],
   "source": [
    "\n",
    "\n",
    "from sklearn.model_selection import train_test_split\n",
    "X_train,X_test,Y_train,Y_test = train_test_split(X,Y,test_size = 0.25,random_state = 0)"
   ]
  },
  {
   "cell_type": "code",
   "execution_count": 14,
   "metadata": {},
   "outputs": [],
   "source": [
    "from sklearn.preprocessing import OneHotEncoder\n",
    "from sklearn.compose import ColumnTransformer"
   ]
  },
  {
   "cell_type": "raw",
   "metadata": {},
   "source": []
  },
  {
   "cell_type": "code",
   "execution_count": 15,
   "metadata": {},
   "outputs": [],
   "source": [
    "ct = ColumnTransformer([('one_hot_encoder',OneHotEncoder(categories = 'auto'),[3])],remainder = 'passthrough')"
   ]
  },
  {
   "cell_type": "code",
   "execution_count": 16,
   "metadata": {},
   "outputs": [],
   "source": [
    "ct = ct.fit(X)\n",
    "X = ct.transform(X)"
   ]
  },
  {
   "cell_type": "code",
   "execution_count": null,
   "metadata": {},
   "outputs": [],
   "source": []
  },
  {
   "cell_type": "code",
   "execution_count": 87,
   "metadata": {},
   "outputs": [],
   "source": [
    "from sklearn.model_selection import train_test_split\n",
    "X_train,X_test,Y_train,Y_test = train_test_split(X,Y,test_size = 0.25,random_state = 0)"
   ]
  },
  {
   "cell_type": "code",
   "execution_count": null,
   "metadata": {},
   "outputs": [],
   "source": []
  },
  {
   "cell_type": "code",
   "execution_count": 17,
   "metadata": {},
   "outputs": [],
   "source": [
    "imputer = SimpleImputer(missing_values = np.nan,strategy = 'mean')\n",
    "imputer = imputer.fit(Y)\n",
    "Y = imputer.transform(Y)\n"
   ]
  },
  {
   "cell_type": "code",
   "execution_count": 18,
   "metadata": {},
   "outputs": [],
   "source": [
    "X = X[:,1:]\n",
    "from sklearn.model_selection import train_test_split\n",
    "X_train,X_test,Y_train,Y_test = train_test_split(X,Y,test_size = 0.25,random_state = 0)\n",
    "from sklearn.linear_model import LinearRegression"
   ]
  },
  {
   "cell_type": "code",
   "execution_count": 19,
   "metadata": {},
   "outputs": [],
   "source": [
    "regressor = LinearRegression()\n",
    "regressor = regressor.fit(X_train,Y_train)"
   ]
  },
  {
   "cell_type": "code",
   "execution_count": 20,
   "metadata": {},
   "outputs": [],
   "source": [
    "y_pred = regressor.predict(X_test)\n"
   ]
  },
  {
   "cell_type": "code",
   "execution_count": null,
   "metadata": {},
   "outputs": [],
   "source": []
  },
  {
   "cell_type": "code",
   "execution_count": 21,
   "metadata": {},
   "outputs": [
    {
     "data": {
      "text/plain": [
       "array([[0.0, 1.0, 165349.2, 136897.8, 471784.1],\n",
       "       [0.0, 0.0, 162597.7, 151377.59, 443898.53],\n",
       "       [1.0, 0.0, 153441.51, 101145.55, 407934.54],\n",
       "       [0.0, 1.0, 144372.41, 118671.85, 383199.62],\n",
       "       [1.0, 0.0, 142107.34, 91391.77, 366168.42],\n",
       "       [0.0, 1.0, 131876.9, 99814.71, 362861.36],\n",
       "       [0.0, 0.0, 134615.46, 147198.87, 127716.82],\n",
       "       [1.0, 0.0, 130298.13, 145530.06, 323876.68],\n",
       "       [0.0, 1.0, 120542.52, 148718.95, 311613.29],\n",
       "       [0.0, 0.0, 123334.88, 108679.17, 304981.62],\n",
       "       [1.0, 0.0, 101913.08, 110594.11, 229160.95],\n",
       "       [0.0, 0.0, 100671.96, 91790.61, 249744.55],\n",
       "       [1.0, 0.0, 93863.75, 127320.38, 249839.44],\n",
       "       [0.0, 0.0, 91992.39, 135495.07, 252664.93],\n",
       "       [1.0, 0.0, 119943.24, 156547.42, 256512.92],\n",
       "       [0.0, 1.0, 114523.61, 122616.84, 261776.23],\n",
       "       [0.0, 0.0, 78013.11, 121597.55, 264346.06],\n",
       "       [0.0, 1.0, 94657.16, 145077.58, 282574.31],\n",
       "       [1.0, 0.0, 91749.16, 114175.79, 294919.57],\n",
       "       [0.0, 1.0, 86419.7, 153514.11, 0.0],\n",
       "       [0.0, 0.0, 76253.86, 113867.3, 298664.47],\n",
       "       [0.0, 1.0, 78389.47, 153773.43, 299737.29],\n",
       "       [1.0, 0.0, 73994.56, 122782.75, 303319.26],\n",
       "       [1.0, 0.0, 67532.53, 105751.03, 304768.73],\n",
       "       [0.0, 1.0, 77044.01, 99281.34, 140574.81],\n",
       "       [0.0, 0.0, 64664.71, 139553.16, 137962.62],\n",
       "       [1.0, 0.0, 75328.87, 144135.98, 134050.07],\n",
       "       [0.0, 1.0, 72107.6, 127864.55, 353183.81],\n",
       "       [1.0, 0.0, 66051.52, 182645.56, 118148.2],\n",
       "       [0.0, 1.0, 65605.48, 153032.06, 107138.38],\n",
       "       [1.0, 0.0, 61994.48, 115641.28, 91131.24],\n",
       "       [0.0, 1.0, 61136.38, 152701.92, 88218.23],\n",
       "       [0.0, 0.0, 63408.86, 129219.61, 46085.25],\n",
       "       [1.0, 0.0, 55493.95, 103057.49, 214634.81],\n",
       "       [0.0, 0.0, 46426.07, 157693.92, 210797.67],\n",
       "       [0.0, 1.0, 46014.02, 85047.44, 205517.64],\n",
       "       [1.0, 0.0, 28663.76, 127056.21, 201126.82],\n",
       "       [0.0, 0.0, 44069.95, 51283.14, 197029.42],\n",
       "       [0.0, 1.0, 20229.59, 65947.93, 185265.1],\n",
       "       [0.0, 0.0, 38558.51, 82982.09, 174999.3],\n",
       "       [0.0, 0.0, 28754.33, 118546.05, 172795.67],\n",
       "       [1.0, 0.0, 27892.92, 84710.77, 164470.71],\n",
       "       [0.0, 0.0, 23640.93, 96189.63, 148001.11],\n",
       "       [0.0, 1.0, 15505.73, 127382.3, 35534.17],\n",
       "       [0.0, 0.0, 22177.74, 154806.14, 28334.72],\n",
       "       [0.0, 1.0, 1000.23, 124153.04, 1903.93],\n",
       "       [1.0, 0.0, 1315.46, 115816.21, 297114.46],\n",
       "       [0.0, 0.0, 0.0, 135426.92, 0.0],\n",
       "       [0.0, 1.0, 542.05, 51743.15, 0.0],\n",
       "       [0.0, 0.0, 0.0, 116983.8, 45173.06],\n",
       "       [0.0, 0.0, 3686080.78, 121344.63960000001, 211025.0978]],\n",
       "      dtype=object)"
      ]
     },
     "execution_count": 21,
     "metadata": {},
     "output_type": "execute_result"
    }
   ],
   "source": [
    "X"
   ]
  },
  {
   "cell_type": "code",
   "execution_count": 22,
   "metadata": {},
   "outputs": [],
   "source": [
    "X = np.append(arr = np.ones((51,1)).astype(int),values = X,axis = 1)"
   ]
  },
  {
   "cell_type": "code",
   "execution_count": 23,
   "metadata": {},
   "outputs": [
    {
     "data": {
      "text/plain": [
       "(51, 6)"
      ]
     },
     "execution_count": 23,
     "metadata": {},
     "output_type": "execute_result"
    }
   ],
   "source": [
    "X.shape\n"
   ]
  },
  {
   "cell_type": "code",
   "execution_count": 24,
   "metadata": {},
   "outputs": [
    {
     "data": {
      "text/plain": [
       "array([[1, 0.0, 1.0, 165349.2, 136897.8, 471784.1],\n",
       "       [1, 0.0, 0.0, 162597.7, 151377.59, 443898.53],\n",
       "       [1, 1.0, 0.0, 153441.51, 101145.55, 407934.54],\n",
       "       [1, 0.0, 1.0, 144372.41, 118671.85, 383199.62],\n",
       "       [1, 1.0, 0.0, 142107.34, 91391.77, 366168.42],\n",
       "       [1, 0.0, 1.0, 131876.9, 99814.71, 362861.36],\n",
       "       [1, 0.0, 0.0, 134615.46, 147198.87, 127716.82],\n",
       "       [1, 1.0, 0.0, 130298.13, 145530.06, 323876.68],\n",
       "       [1, 0.0, 1.0, 120542.52, 148718.95, 311613.29],\n",
       "       [1, 0.0, 0.0, 123334.88, 108679.17, 304981.62],\n",
       "       [1, 1.0, 0.0, 101913.08, 110594.11, 229160.95],\n",
       "       [1, 0.0, 0.0, 100671.96, 91790.61, 249744.55],\n",
       "       [1, 1.0, 0.0, 93863.75, 127320.38, 249839.44],\n",
       "       [1, 0.0, 0.0, 91992.39, 135495.07, 252664.93],\n",
       "       [1, 1.0, 0.0, 119943.24, 156547.42, 256512.92],\n",
       "       [1, 0.0, 1.0, 114523.61, 122616.84, 261776.23],\n",
       "       [1, 0.0, 0.0, 78013.11, 121597.55, 264346.06],\n",
       "       [1, 0.0, 1.0, 94657.16, 145077.58, 282574.31],\n",
       "       [1, 1.0, 0.0, 91749.16, 114175.79, 294919.57],\n",
       "       [1, 0.0, 1.0, 86419.7, 153514.11, 0.0],\n",
       "       [1, 0.0, 0.0, 76253.86, 113867.3, 298664.47],\n",
       "       [1, 0.0, 1.0, 78389.47, 153773.43, 299737.29],\n",
       "       [1, 1.0, 0.0, 73994.56, 122782.75, 303319.26],\n",
       "       [1, 1.0, 0.0, 67532.53, 105751.03, 304768.73],\n",
       "       [1, 0.0, 1.0, 77044.01, 99281.34, 140574.81],\n",
       "       [1, 0.0, 0.0, 64664.71, 139553.16, 137962.62],\n",
       "       [1, 1.0, 0.0, 75328.87, 144135.98, 134050.07],\n",
       "       [1, 0.0, 1.0, 72107.6, 127864.55, 353183.81],\n",
       "       [1, 1.0, 0.0, 66051.52, 182645.56, 118148.2],\n",
       "       [1, 0.0, 1.0, 65605.48, 153032.06, 107138.38],\n",
       "       [1, 1.0, 0.0, 61994.48, 115641.28, 91131.24],\n",
       "       [1, 0.0, 1.0, 61136.38, 152701.92, 88218.23],\n",
       "       [1, 0.0, 0.0, 63408.86, 129219.61, 46085.25],\n",
       "       [1, 1.0, 0.0, 55493.95, 103057.49, 214634.81],\n",
       "       [1, 0.0, 0.0, 46426.07, 157693.92, 210797.67],\n",
       "       [1, 0.0, 1.0, 46014.02, 85047.44, 205517.64],\n",
       "       [1, 1.0, 0.0, 28663.76, 127056.21, 201126.82],\n",
       "       [1, 0.0, 0.0, 44069.95, 51283.14, 197029.42],\n",
       "       [1, 0.0, 1.0, 20229.59, 65947.93, 185265.1],\n",
       "       [1, 0.0, 0.0, 38558.51, 82982.09, 174999.3],\n",
       "       [1, 0.0, 0.0, 28754.33, 118546.05, 172795.67],\n",
       "       [1, 1.0, 0.0, 27892.92, 84710.77, 164470.71],\n",
       "       [1, 0.0, 0.0, 23640.93, 96189.63, 148001.11],\n",
       "       [1, 0.0, 1.0, 15505.73, 127382.3, 35534.17],\n",
       "       [1, 0.0, 0.0, 22177.74, 154806.14, 28334.72],\n",
       "       [1, 0.0, 1.0, 1000.23, 124153.04, 1903.93],\n",
       "       [1, 1.0, 0.0, 1315.46, 115816.21, 297114.46],\n",
       "       [1, 0.0, 0.0, 0.0, 135426.92, 0.0],\n",
       "       [1, 0.0, 1.0, 542.05, 51743.15, 0.0],\n",
       "       [1, 0.0, 0.0, 0.0, 116983.8, 45173.06],\n",
       "       [1, 0.0, 0.0, 3686080.78, 121344.63960000001, 211025.0978]],\n",
       "      dtype=object)"
      ]
     },
     "execution_count": 24,
     "metadata": {},
     "output_type": "execute_result"
    }
   ],
   "source": [
    "X"
   ]
  },
  {
   "cell_type": "code",
   "execution_count": 25,
   "metadata": {},
   "outputs": [
    {
     "name": "stdout",
     "output_type": "stream",
     "text": [
      "Help on function hstack in module numpy:\n",
      "\n",
      "hstack(tup)\n",
      "    Stack arrays in sequence horizontally (column wise).\n",
      "    \n",
      "    This is equivalent to concatenation along the second axis, except for 1-D\n",
      "    arrays where it concatenates along the first axis. Rebuilds arrays divided\n",
      "    by `hsplit`.\n",
      "    \n",
      "    This function makes most sense for arrays with up to 3 dimensions. For\n",
      "    instance, for pixel-data with a height (first axis), width (second axis),\n",
      "    and r/g/b channels (third axis). The functions `concatenate`, `stack` and\n",
      "    `block` provide more general stacking and concatenation operations.\n",
      "    \n",
      "    Parameters\n",
      "    ----------\n",
      "    tup : sequence of ndarrays\n",
      "        The arrays must have the same shape along all but the second axis,\n",
      "        except 1-D arrays which can be any length.\n",
      "    \n",
      "    Returns\n",
      "    -------\n",
      "    stacked : ndarray\n",
      "        The array formed by stacking the given arrays.\n",
      "    \n",
      "    See Also\n",
      "    --------\n",
      "    stack : Join a sequence of arrays along a new axis.\n",
      "    vstack : Stack arrays in sequence vertically (row wise).\n",
      "    dstack : Stack arrays in sequence depth wise (along third axis).\n",
      "    concatenate : Join a sequence of arrays along an existing axis.\n",
      "    hsplit : Split array along second axis.\n",
      "    block : Assemble arrays from blocks.\n",
      "    \n",
      "    Examples\n",
      "    --------\n",
      "    >>> a = np.array((1,2,3))\n",
      "    >>> b = np.array((2,3,4))\n",
      "    >>> np.hstack((a,b))\n",
      "    array([1, 2, 3, 2, 3, 4])\n",
      "    >>> a = np.array([[1],[2],[3]])\n",
      "    >>> b = np.array([[2],[3],[4]])\n",
      "    >>> np.hstack((a,b))\n",
      "    array([[1, 2],\n",
      "           [2, 3],\n",
      "           [3, 4]])\n",
      "\n"
     ]
    }
   ],
   "source": [
    "help(np.hstack)"
   ]
  },
  {
   "cell_type": "code",
   "execution_count": 26,
   "metadata": {},
   "outputs": [
    {
     "data": {
      "text/plain": [
       "array([[1, 1, 0.0, 1.0, 165349.2, 136897.8, 471784.1],\n",
       "       [1, 1, 0.0, 0.0, 162597.7, 151377.59, 443898.53],\n",
       "       [1, 1, 1.0, 0.0, 153441.51, 101145.55, 407934.54],\n",
       "       [1, 1, 0.0, 1.0, 144372.41, 118671.85, 383199.62],\n",
       "       [1, 1, 1.0, 0.0, 142107.34, 91391.77, 366168.42],\n",
       "       [1, 1, 0.0, 1.0, 131876.9, 99814.71, 362861.36],\n",
       "       [1, 1, 0.0, 0.0, 134615.46, 147198.87, 127716.82],\n",
       "       [1, 1, 1.0, 0.0, 130298.13, 145530.06, 323876.68],\n",
       "       [1, 1, 0.0, 1.0, 120542.52, 148718.95, 311613.29],\n",
       "       [1, 1, 0.0, 0.0, 123334.88, 108679.17, 304981.62],\n",
       "       [1, 1, 1.0, 0.0, 101913.08, 110594.11, 229160.95],\n",
       "       [1, 1, 0.0, 0.0, 100671.96, 91790.61, 249744.55],\n",
       "       [1, 1, 1.0, 0.0, 93863.75, 127320.38, 249839.44],\n",
       "       [1, 1, 0.0, 0.0, 91992.39, 135495.07, 252664.93],\n",
       "       [1, 1, 1.0, 0.0, 119943.24, 156547.42, 256512.92],\n",
       "       [1, 1, 0.0, 1.0, 114523.61, 122616.84, 261776.23],\n",
       "       [1, 1, 0.0, 0.0, 78013.11, 121597.55, 264346.06],\n",
       "       [1, 1, 0.0, 1.0, 94657.16, 145077.58, 282574.31],\n",
       "       [1, 1, 1.0, 0.0, 91749.16, 114175.79, 294919.57],\n",
       "       [1, 1, 0.0, 1.0, 86419.7, 153514.11, 0.0],\n",
       "       [1, 1, 0.0, 0.0, 76253.86, 113867.3, 298664.47],\n",
       "       [1, 1, 0.0, 1.0, 78389.47, 153773.43, 299737.29],\n",
       "       [1, 1, 1.0, 0.0, 73994.56, 122782.75, 303319.26],\n",
       "       [1, 1, 1.0, 0.0, 67532.53, 105751.03, 304768.73],\n",
       "       [1, 1, 0.0, 1.0, 77044.01, 99281.34, 140574.81],\n",
       "       [1, 1, 0.0, 0.0, 64664.71, 139553.16, 137962.62],\n",
       "       [1, 1, 1.0, 0.0, 75328.87, 144135.98, 134050.07],\n",
       "       [1, 1, 0.0, 1.0, 72107.6, 127864.55, 353183.81],\n",
       "       [1, 1, 1.0, 0.0, 66051.52, 182645.56, 118148.2],\n",
       "       [1, 1, 0.0, 1.0, 65605.48, 153032.06, 107138.38],\n",
       "       [1, 1, 1.0, 0.0, 61994.48, 115641.28, 91131.24],\n",
       "       [1, 1, 0.0, 1.0, 61136.38, 152701.92, 88218.23],\n",
       "       [1, 1, 0.0, 0.0, 63408.86, 129219.61, 46085.25],\n",
       "       [1, 1, 1.0, 0.0, 55493.95, 103057.49, 214634.81],\n",
       "       [1, 1, 0.0, 0.0, 46426.07, 157693.92, 210797.67],\n",
       "       [1, 1, 0.0, 1.0, 46014.02, 85047.44, 205517.64],\n",
       "       [1, 1, 1.0, 0.0, 28663.76, 127056.21, 201126.82],\n",
       "       [1, 1, 0.0, 0.0, 44069.95, 51283.14, 197029.42],\n",
       "       [1, 1, 0.0, 1.0, 20229.59, 65947.93, 185265.1],\n",
       "       [1, 1, 0.0, 0.0, 38558.51, 82982.09, 174999.3],\n",
       "       [1, 1, 0.0, 0.0, 28754.33, 118546.05, 172795.67],\n",
       "       [1, 1, 1.0, 0.0, 27892.92, 84710.77, 164470.71],\n",
       "       [1, 1, 0.0, 0.0, 23640.93, 96189.63, 148001.11],\n",
       "       [1, 1, 0.0, 1.0, 15505.73, 127382.3, 35534.17],\n",
       "       [1, 1, 0.0, 0.0, 22177.74, 154806.14, 28334.72],\n",
       "       [1, 1, 0.0, 1.0, 1000.23, 124153.04, 1903.93],\n",
       "       [1, 1, 1.0, 0.0, 1315.46, 115816.21, 297114.46],\n",
       "       [1, 1, 0.0, 0.0, 0.0, 135426.92, 0.0],\n",
       "       [1, 1, 0.0, 1.0, 542.05, 51743.15, 0.0],\n",
       "       [1, 1, 0.0, 0.0, 0.0, 116983.8, 45173.06],\n",
       "       [1, 1, 0.0, 0.0, 3686080.78, 121344.63960000001, 211025.0978]],\n",
       "      dtype=object)"
      ]
     },
     "execution_count": 26,
     "metadata": {},
     "output_type": "execute_result"
    }
   ],
   "source": [
    "np.hstack((np.ones((51,1), dtype=int),X))"
   ]
  },
  {
   "cell_type": "code",
   "execution_count": 36,
   "metadata": {},
   "outputs": [
    {
     "data": {
      "text/html": [
       "<table class=\"simpletable\">\n",
       "<caption>OLS Regression Results</caption>\n",
       "<tr>\n",
       "  <th>Dep. Variable:</th>            <td>y</td>        <th>  R-squared:         </th> <td>   0.614</td>\n",
       "</tr>\n",
       "<tr>\n",
       "  <th>Model:</th>                   <td>OLS</td>       <th>  Adj. R-squared:    </th> <td>   0.572</td>\n",
       "</tr>\n",
       "<tr>\n",
       "  <th>Method:</th>             <td>Least Squares</td>  <th>  F-statistic:       </th> <td>   14.34</td>\n",
       "</tr>\n",
       "<tr>\n",
       "  <th>Date:</th>             <td>Tue, 07 May 2019</td> <th>  Prob (F-statistic):</th> <td>2.13e-08</td>\n",
       "</tr>\n",
       "<tr>\n",
       "  <th>Time:</th>                 <td>15:49:44</td>     <th>  Log-Likelihood:    </th> <td> -587.86</td>\n",
       "</tr>\n",
       "<tr>\n",
       "  <th>No. Observations:</th>      <td>    51</td>      <th>  AIC:               </th> <td>   1188.</td>\n",
       "</tr>\n",
       "<tr>\n",
       "  <th>Df Residuals:</th>          <td>    45</td>      <th>  BIC:               </th> <td>   1199.</td>\n",
       "</tr>\n",
       "<tr>\n",
       "  <th>Df Model:</th>              <td>     5</td>      <th>                     </th>     <td> </td>   \n",
       "</tr>\n",
       "<tr>\n",
       "  <th>Covariance Type:</th>      <td>nonrobust</td>    <th>                     </th>     <td> </td>   \n",
       "</tr>\n",
       "</table>\n",
       "<table class=\"simpletable\">\n",
       "<tr>\n",
       "    <td></td>       <th>coef</th>     <th>std err</th>      <th>t</th>      <th>P>|t|</th>  <th>[0.025</th>    <th>0.975]</th>  \n",
       "</tr>\n",
       "<tr>\n",
       "  <th>const</th> <td>  1.87e+04</td> <td> 1.84e+04</td> <td>    1.017</td> <td> 0.314</td> <td>-1.83e+04</td> <td> 5.57e+04</td>\n",
       "</tr>\n",
       "<tr>\n",
       "  <th>x1</th>    <td>-1131.2626</td> <td> 9324.689</td> <td>   -0.121</td> <td> 0.904</td> <td>-1.99e+04</td> <td> 1.76e+04</td>\n",
       "</tr>\n",
       "<tr>\n",
       "  <th>x2</th>    <td> 4411.2958</td> <td> 8980.922</td> <td>    0.491</td> <td> 0.626</td> <td>-1.37e+04</td> <td> 2.25e+04</td>\n",
       "</tr>\n",
       "<tr>\n",
       "  <th>x3</th>    <td>    0.0029</td> <td>    0.007</td> <td>    0.392</td> <td> 0.697</td> <td>   -0.012</td> <td>    0.018</td>\n",
       "</tr>\n",
       "<tr>\n",
       "  <th>x4</th>    <td>    0.3224</td> <td>    0.133</td> <td>    2.418</td> <td> 0.020</td> <td>    0.054</td> <td>    0.591</td>\n",
       "</tr>\n",
       "<tr>\n",
       "  <th>x5</th>    <td>    0.2495</td> <td>    0.031</td> <td>    7.939</td> <td> 0.000</td> <td>    0.186</td> <td>    0.313</td>\n",
       "</tr>\n",
       "</table>\n",
       "<table class=\"simpletable\">\n",
       "<tr>\n",
       "  <th>Omnibus:</th>       <td> 5.833</td> <th>  Durbin-Watson:     </th> <td>   1.323</td>\n",
       "</tr>\n",
       "<tr>\n",
       "  <th>Prob(Omnibus):</th> <td> 0.054</td> <th>  Jarque-Bera (JB):  </th> <td>   5.684</td>\n",
       "</tr>\n",
       "<tr>\n",
       "  <th>Skew:</th>          <td>-0.442</td> <th>  Prob(JB):          </th> <td>  0.0583</td>\n",
       "</tr>\n",
       "<tr>\n",
       "  <th>Kurtosis:</th>      <td> 4.376</td> <th>  Cond. No.          </th> <td>2.69e+06</td>\n",
       "</tr>\n",
       "</table><br/><br/>Warnings:<br/>[1] Standard Errors assume that the covariance matrix of the errors is correctly specified.<br/>[2] The condition number is large, 2.69e+06. This might indicate that there are<br/>strong multicollinearity or other numerical problems."
      ],
      "text/plain": [
       "<class 'statsmodels.iolib.summary.Summary'>\n",
       "\"\"\"\n",
       "                            OLS Regression Results                            \n",
       "==============================================================================\n",
       "Dep. Variable:                      y   R-squared:                       0.614\n",
       "Model:                            OLS   Adj. R-squared:                  0.572\n",
       "Method:                 Least Squares   F-statistic:                     14.34\n",
       "Date:                Tue, 07 May 2019   Prob (F-statistic):           2.13e-08\n",
       "Time:                        15:49:44   Log-Likelihood:                -587.86\n",
       "No. Observations:                  51   AIC:                             1188.\n",
       "Df Residuals:                      45   BIC:                             1199.\n",
       "Df Model:                           5                                         \n",
       "Covariance Type:            nonrobust                                         \n",
       "==============================================================================\n",
       "                 coef    std err          t      P>|t|      [0.025      0.975]\n",
       "------------------------------------------------------------------------------\n",
       "const        1.87e+04   1.84e+04      1.017      0.314   -1.83e+04    5.57e+04\n",
       "x1         -1131.2626   9324.689     -0.121      0.904   -1.99e+04    1.76e+04\n",
       "x2          4411.2958   8980.922      0.491      0.626   -1.37e+04    2.25e+04\n",
       "x3             0.0029      0.007      0.392      0.697      -0.012       0.018\n",
       "x4             0.3224      0.133      2.418      0.020       0.054       0.591\n",
       "x5             0.2495      0.031      7.939      0.000       0.186       0.313\n",
       "==============================================================================\n",
       "Omnibus:                        5.833   Durbin-Watson:                   1.323\n",
       "Prob(Omnibus):                  0.054   Jarque-Bera (JB):                5.684\n",
       "Skew:                          -0.442   Prob(JB):                       0.0583\n",
       "Kurtosis:                       4.376   Cond. No.                     2.69e+06\n",
       "==============================================================================\n",
       "\n",
       "Warnings:\n",
       "[1] Standard Errors assume that the covariance matrix of the errors is correctly specified.\n",
       "[2] The condition number is large, 2.69e+06. This might indicate that there are\n",
       "strong multicollinearity or other numerical problems.\n",
       "\"\"\""
      ]
     },
     "execution_count": 36,
     "metadata": {},
     "output_type": "execute_result"
    }
   ],
   "source": [
    "X = X.astype(float)\n",
    "X_opt = X[:,[0,1,2,3,4,5]]\n",
    "import statsmodels.formula.api as sm\n",
    "regressor_OLS = sm.OLS(endog = Y,exog = X_opt).fit()\n",
    "regressor_OLS.summary()"
   ]
  },
  {
   "cell_type": "code",
   "execution_count": 55,
   "metadata": {},
   "outputs": [],
   "source": [
    "import statsmodels.formula.api as sm\n",
    "def backwardelimination(x,y,sl):\n",
    "    num = len(x[0])\n",
    "    for i in range(0,num):\n",
    "        regressor_OLS = sm.OLS(endog = y,exog = x).fit()\n",
    "        maxvar = max(regressor_OLS.pvalues)\n",
    "        if maxvar >sl:\n",
    "            for j in range(0,num-i):\n",
    "                if regressor_OLS.pvalues[j] == maxvar:\n",
    "                    x = np.delete(x,j,axis = 1)\n",
    "    regressor_OLS.summary()\n",
    "    return x"
   ]
  },
  {
   "cell_type": "code",
   "execution_count": 56,
   "metadata": {},
   "outputs": [
    {
     "data": {
      "text/plain": [
       "0.9039784370311645"
      ]
     },
     "execution_count": 56,
     "metadata": {},
     "output_type": "execute_result"
    }
   ],
   "source": [
    "X_opt = X[:,[0,1,2,3,4,5]]\n",
    "regressor_OLS = sm.OLS(endog = Y,exog = X_opt).fit()\n",
    "max(regressor_OLS.pvalues)"
   ]
  },
  {
   "cell_type": "code",
   "execution_count": 57,
   "metadata": {},
   "outputs": [
    {
     "name": "stdout",
     "output_type": "stream",
     "text": [
      "[[136897.8    471784.1   ]\n",
      " [151377.59   443898.53  ]\n",
      " [101145.55   407934.54  ]\n",
      " [118671.85   383199.62  ]\n",
      " [ 91391.77   366168.42  ]\n",
      " [ 99814.71   362861.36  ]\n",
      " [147198.87   127716.82  ]\n",
      " [145530.06   323876.68  ]\n",
      " [148718.95   311613.29  ]\n",
      " [108679.17   304981.62  ]\n",
      " [110594.11   229160.95  ]\n",
      " [ 91790.61   249744.55  ]\n",
      " [127320.38   249839.44  ]\n",
      " [135495.07   252664.93  ]\n",
      " [156547.42   256512.92  ]\n",
      " [122616.84   261776.23  ]\n",
      " [121597.55   264346.06  ]\n",
      " [145077.58   282574.31  ]\n",
      " [114175.79   294919.57  ]\n",
      " [153514.11        0.    ]\n",
      " [113867.3    298664.47  ]\n",
      " [153773.43   299737.29  ]\n",
      " [122782.75   303319.26  ]\n",
      " [105751.03   304768.73  ]\n",
      " [ 99281.34   140574.81  ]\n",
      " [139553.16   137962.62  ]\n",
      " [144135.98   134050.07  ]\n",
      " [127864.55   353183.81  ]\n",
      " [182645.56   118148.2   ]\n",
      " [153032.06   107138.38  ]\n",
      " [115641.28    91131.24  ]\n",
      " [152701.92    88218.23  ]\n",
      " [129219.61    46085.25  ]\n",
      " [103057.49   214634.81  ]\n",
      " [157693.92   210797.67  ]\n",
      " [ 85047.44   205517.64  ]\n",
      " [127056.21   201126.82  ]\n",
      " [ 51283.14   197029.42  ]\n",
      " [ 65947.93   185265.1   ]\n",
      " [ 82982.09   174999.3   ]\n",
      " [118546.05   172795.67  ]\n",
      " [ 84710.77   164470.71  ]\n",
      " [ 96189.63   148001.11  ]\n",
      " [127382.3     35534.17  ]\n",
      " [154806.14    28334.72  ]\n",
      " [124153.04     1903.93  ]\n",
      " [115816.21   297114.46  ]\n",
      " [135426.92        0.    ]\n",
      " [ 51743.15        0.    ]\n",
      " [116983.8     45173.06  ]\n",
      " [121344.6396 211025.0978]]\n"
     ]
    }
   ],
   "source": [
    "sl = 0.05\n",
    "print(backwardelimination(X,Y,sl))"
   ]
  },
  {
   "cell_type": "code",
   "execution_count": 58,
   "metadata": {},
   "outputs": [
    {
     "data": {
      "text/plain": [
       "array([185448.48284419, 178739.80244003, 152412.02301052, 157407.22847647,\n",
       "       138812.64080724, 146216.00467073,  98417.1031167 , 145681.16215528,\n",
       "       149163.52638751, 130195.77066356, 110700.73246683, 110901.68722315,\n",
       "       121229.98734657, 125696.54934449, 132394.63588515, 128294.6321346 ,\n",
       "       124089.61679139, 140668.26164701, 128234.10684468,  72856.27316844,\n",
       "       130155.22012283, 147707.18293796, 133053.41574496, 127904.81167149,\n",
       "        90419.27616997,  98304.80861562,  97705.95077775, 152671.22343652,\n",
       "       106127.56785277,  99373.4979985 ,  77770.56725994,  94533.07028767,\n",
       "        72044.03923494, 104511.01024224, 122274.60995083, 101944.14315188,\n",
       "       108800.17207799,  84522.72500603,  90657.47127239,  89230.25935029,\n",
       "       100118.59457576,  85998.21272542,  86708.66690183,  73090.75562458,\n",
       "        75744.62153148,  63615.88345705, 129047.39313074,  62361.59311487,\n",
       "        39792.67633501,  67686.67543287, 121208.27578533])"
      ]
     },
     "execution_count": 58,
     "metadata": {},
     "output_type": "execute_result"
    }
   ],
   "source": [
    "regressor_OLS.predict(X_opt)"
   ]
  },
  {
   "cell_type": "code",
   "execution_count": null,
   "metadata": {},
   "outputs": [],
   "source": []
  }
 ],
 "metadata": {
  "kernelspec": {
   "display_name": "Python 3",
   "language": "python",
   "name": "python3"
  },
  "language_info": {
   "codemirror_mode": {
    "name": "ipython",
    "version": 3
   },
   "file_extension": ".py",
   "mimetype": "text/x-python",
   "name": "python",
   "nbconvert_exporter": "python",
   "pygments_lexer": "ipython3",
   "version": "3.6.5"
  }
 },
 "nbformat": 4,
 "nbformat_minor": 2
}
